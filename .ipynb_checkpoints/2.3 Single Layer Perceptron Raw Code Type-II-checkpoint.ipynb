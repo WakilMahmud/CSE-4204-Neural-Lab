{
 "cells": [
  {
   "cell_type": "code",
   "execution_count": 1,
   "id": "fda3578b",
   "metadata": {},
   "outputs": [],
   "source": [
    "import numpy as np\n",
    "import pandas as pd\n",
    "import matplotlib.pyplot as plt\n",
    "import seaborn as sns"
   ]
  },
  {
   "cell_type": "code",
   "execution_count": 2,
   "id": "e0d5976a",
   "metadata": {},
   "outputs": [],
   "source": [
    "# data = pd.read_csv(\"./perceptron_data.csv\")"
   ]
  },
  {
   "cell_type": "code",
   "execution_count": 3,
   "id": "09dae2ff",
   "metadata": {},
   "outputs": [],
   "source": [
    "# Generate data\n",
    "import itertools\n",
    "n = 3\n",
    "lst = list(itertools.product([0, 1], repeat=n))\n",
    "data = pd.DataFrame(lst)"
   ]
  },
  {
   "cell_type": "code",
   "execution_count": 4,
   "id": "66de80f3",
   "metadata": {},
   "outputs": [
    {
     "data": {
      "text/html": [
       "<div>\n",
       "<style scoped>\n",
       "    .dataframe tbody tr th:only-of-type {\n",
       "        vertical-align: middle;\n",
       "    }\n",
       "\n",
       "    .dataframe tbody tr th {\n",
       "        vertical-align: top;\n",
       "    }\n",
       "\n",
       "    .dataframe thead th {\n",
       "        text-align: right;\n",
       "    }\n",
       "</style>\n",
       "<table border=\"1\" class=\"dataframe\">\n",
       "  <thead>\n",
       "    <tr style=\"text-align: right;\">\n",
       "      <th></th>\n",
       "      <th>0</th>\n",
       "      <th>1</th>\n",
       "      <th>2</th>\n",
       "    </tr>\n",
       "  </thead>\n",
       "  <tbody>\n",
       "    <tr>\n",
       "      <th>0</th>\n",
       "      <td>0</td>\n",
       "      <td>0</td>\n",
       "      <td>0</td>\n",
       "    </tr>\n",
       "    <tr>\n",
       "      <th>1</th>\n",
       "      <td>0</td>\n",
       "      <td>0</td>\n",
       "      <td>1</td>\n",
       "    </tr>\n",
       "    <tr>\n",
       "      <th>2</th>\n",
       "      <td>0</td>\n",
       "      <td>1</td>\n",
       "      <td>0</td>\n",
       "    </tr>\n",
       "    <tr>\n",
       "      <th>3</th>\n",
       "      <td>0</td>\n",
       "      <td>1</td>\n",
       "      <td>1</td>\n",
       "    </tr>\n",
       "    <tr>\n",
       "      <th>4</th>\n",
       "      <td>1</td>\n",
       "      <td>0</td>\n",
       "      <td>0</td>\n",
       "    </tr>\n",
       "    <tr>\n",
       "      <th>5</th>\n",
       "      <td>1</td>\n",
       "      <td>0</td>\n",
       "      <td>1</td>\n",
       "    </tr>\n",
       "    <tr>\n",
       "      <th>6</th>\n",
       "      <td>1</td>\n",
       "      <td>1</td>\n",
       "      <td>0</td>\n",
       "    </tr>\n",
       "    <tr>\n",
       "      <th>7</th>\n",
       "      <td>1</td>\n",
       "      <td>1</td>\n",
       "      <td>1</td>\n",
       "    </tr>\n",
       "  </tbody>\n",
       "</table>\n",
       "</div>"
      ],
      "text/plain": [
       "   0  1  2\n",
       "0  0  0  0\n",
       "1  0  0  1\n",
       "2  0  1  0\n",
       "3  0  1  1\n",
       "4  1  0  0\n",
       "5  1  0  1\n",
       "6  1  1  0\n",
       "7  1  1  1"
      ]
     },
     "execution_count": 4,
     "metadata": {},
     "output_type": "execute_result"
    }
   ],
   "source": [
    "data"
   ]
  },
  {
   "cell_type": "code",
   "execution_count": 5,
   "id": "45de849e",
   "metadata": {},
   "outputs": [],
   "source": [
    "first_half = np.zeros(int(len(data)/2)).astype(int)\n",
    "# first_half"
   ]
  },
  {
   "cell_type": "code",
   "execution_count": 6,
   "id": "ca960ec9",
   "metadata": {},
   "outputs": [],
   "source": [
    "second_half = np.ones(int(len(data)/2)).astype(int)\n",
    "# second_half"
   ]
  },
  {
   "cell_type": "code",
   "execution_count": 7,
   "id": "70eece3c",
   "metadata": {},
   "outputs": [],
   "source": [
    "output = np.hstack((first_half, second_half))"
   ]
  },
  {
   "cell_type": "code",
   "execution_count": 8,
   "id": "e74b6de0",
   "metadata": {},
   "outputs": [],
   "source": [
    "data['output'] = output"
   ]
  },
  {
   "cell_type": "code",
   "execution_count": 9,
   "id": "11fd810c",
   "metadata": {},
   "outputs": [
    {
     "data": {
      "text/html": [
       "<div>\n",
       "<style scoped>\n",
       "    .dataframe tbody tr th:only-of-type {\n",
       "        vertical-align: middle;\n",
       "    }\n",
       "\n",
       "    .dataframe tbody tr th {\n",
       "        vertical-align: top;\n",
       "    }\n",
       "\n",
       "    .dataframe thead th {\n",
       "        text-align: right;\n",
       "    }\n",
       "</style>\n",
       "<table border=\"1\" class=\"dataframe\">\n",
       "  <thead>\n",
       "    <tr style=\"text-align: right;\">\n",
       "      <th></th>\n",
       "      <th>0</th>\n",
       "      <th>1</th>\n",
       "      <th>2</th>\n",
       "      <th>output</th>\n",
       "    </tr>\n",
       "  </thead>\n",
       "  <tbody>\n",
       "    <tr>\n",
       "      <th>0</th>\n",
       "      <td>0</td>\n",
       "      <td>0</td>\n",
       "      <td>0</td>\n",
       "      <td>0</td>\n",
       "    </tr>\n",
       "    <tr>\n",
       "      <th>1</th>\n",
       "      <td>0</td>\n",
       "      <td>0</td>\n",
       "      <td>1</td>\n",
       "      <td>0</td>\n",
       "    </tr>\n",
       "    <tr>\n",
       "      <th>2</th>\n",
       "      <td>0</td>\n",
       "      <td>1</td>\n",
       "      <td>0</td>\n",
       "      <td>0</td>\n",
       "    </tr>\n",
       "    <tr>\n",
       "      <th>3</th>\n",
       "      <td>0</td>\n",
       "      <td>1</td>\n",
       "      <td>1</td>\n",
       "      <td>0</td>\n",
       "    </tr>\n",
       "    <tr>\n",
       "      <th>4</th>\n",
       "      <td>1</td>\n",
       "      <td>0</td>\n",
       "      <td>0</td>\n",
       "      <td>1</td>\n",
       "    </tr>\n",
       "    <tr>\n",
       "      <th>5</th>\n",
       "      <td>1</td>\n",
       "      <td>0</td>\n",
       "      <td>1</td>\n",
       "      <td>1</td>\n",
       "    </tr>\n",
       "    <tr>\n",
       "      <th>6</th>\n",
       "      <td>1</td>\n",
       "      <td>1</td>\n",
       "      <td>0</td>\n",
       "      <td>1</td>\n",
       "    </tr>\n",
       "    <tr>\n",
       "      <th>7</th>\n",
       "      <td>1</td>\n",
       "      <td>1</td>\n",
       "      <td>1</td>\n",
       "      <td>1</td>\n",
       "    </tr>\n",
       "  </tbody>\n",
       "</table>\n",
       "</div>"
      ],
      "text/plain": [
       "   0  1  2  output\n",
       "0  0  0  0       0\n",
       "1  0  0  1       0\n",
       "2  0  1  0       0\n",
       "3  0  1  1       0\n",
       "4  1  0  0       1\n",
       "5  1  0  1       1\n",
       "6  1  1  0       1\n",
       "7  1  1  1       1"
      ]
     },
     "execution_count": 9,
     "metadata": {},
     "output_type": "execute_result"
    }
   ],
   "source": [
    "data"
   ]
  },
  {
   "cell_type": "code",
   "execution_count": 10,
   "id": "0a14f02b",
   "metadata": {},
   "outputs": [],
   "source": [
    "X = data.iloc[:, 1:data.shape[1]].values"
   ]
  },
  {
   "cell_type": "code",
   "execution_count": 11,
   "id": "03a7eb49",
   "metadata": {},
   "outputs": [
    {
     "data": {
      "text/plain": [
       "(8, 3)"
      ]
     },
     "execution_count": 11,
     "metadata": {},
     "output_type": "execute_result"
    }
   ],
   "source": [
    "X.shape"
   ]
  },
  {
   "cell_type": "code",
   "execution_count": 12,
   "id": "ee754253",
   "metadata": {},
   "outputs": [],
   "source": [
    "y = data.iloc[:, -1].values"
   ]
  },
  {
   "cell_type": "code",
   "execution_count": 13,
   "id": "002f8e58",
   "metadata": {},
   "outputs": [
    {
     "data": {
      "text/plain": [
       "(8,)"
      ]
     },
     "execution_count": 13,
     "metadata": {},
     "output_type": "execute_result"
    }
   ],
   "source": [
    "y.shape"
   ]
  },
  {
   "cell_type": "markdown",
   "id": "82003f0f",
   "metadata": {},
   "source": [
    "# Train Test Split"
   ]
  },
  {
   "cell_type": "code",
   "execution_count": 14,
   "id": "5f1c2a95",
   "metadata": {},
   "outputs": [],
   "source": [
    "train_percentage = .9;\n",
    "row = int(data.shape[0]*train_percentage)"
   ]
  },
  {
   "cell_type": "code",
   "execution_count": 15,
   "id": "77080e10",
   "metadata": {},
   "outputs": [],
   "source": [
    "X_train = data.iloc[:row, 1:data.shape[1]].values"
   ]
  },
  {
   "cell_type": "code",
   "execution_count": 16,
   "id": "770debaf",
   "metadata": {},
   "outputs": [],
   "source": [
    "X_test = data.iloc[row: ,1:data.shape[1]].values"
   ]
  },
  {
   "cell_type": "code",
   "execution_count": 17,
   "id": "0de97917",
   "metadata": {},
   "outputs": [
    {
     "data": {
      "text/plain": [
       "(7, 3)"
      ]
     },
     "execution_count": 17,
     "metadata": {},
     "output_type": "execute_result"
    }
   ],
   "source": [
    "X_train.shape"
   ]
  },
  {
   "cell_type": "code",
   "execution_count": 18,
   "id": "878dfb24",
   "metadata": {},
   "outputs": [
    {
     "data": {
      "text/plain": [
       "(1, 3)"
      ]
     },
     "execution_count": 18,
     "metadata": {},
     "output_type": "execute_result"
    }
   ],
   "source": [
    "X_test.shape"
   ]
  },
  {
   "cell_type": "code",
   "execution_count": 19,
   "id": "0abdcaf7",
   "metadata": {},
   "outputs": [],
   "source": [
    "y_train = data.iloc[ :row,-1].values"
   ]
  },
  {
   "cell_type": "code",
   "execution_count": 20,
   "id": "661a39f6",
   "metadata": {},
   "outputs": [
    {
     "data": {
      "text/plain": [
       "(7,)"
      ]
     },
     "execution_count": 20,
     "metadata": {},
     "output_type": "execute_result"
    }
   ],
   "source": [
    "y_train.shape"
   ]
  },
  {
   "cell_type": "code",
   "execution_count": 21,
   "id": "275ac16e",
   "metadata": {},
   "outputs": [],
   "source": [
    "y_test = data.iloc[ row:,-1].values"
   ]
  },
  {
   "cell_type": "code",
   "execution_count": 22,
   "id": "cf67ac0e",
   "metadata": {},
   "outputs": [
    {
     "data": {
      "text/plain": [
       "(1,)"
      ]
     },
     "execution_count": 22,
     "metadata": {},
     "output_type": "execute_result"
    }
   ],
   "source": [
    "y_test.shape"
   ]
  },
  {
   "cell_type": "markdown",
   "id": "01b489be",
   "metadata": {},
   "source": [
    "# Single Layer Perceptron"
   ]
  },
  {
   "cell_type": "code",
   "execution_count": 23,
   "id": "393aef52",
   "metadata": {},
   "outputs": [],
   "source": [
    "def summation(W,X):\n",
    "#     print(type(W))\n",
    "#     print(type(X))\n",
    "    result = 0\n",
    "    for i in range(len(W)):\n",
    "        result += W[i]*X[i]\n",
    "\n",
    "    return result"
   ]
  },
  {
   "cell_type": "code",
   "execution_count": 24,
   "id": "22dfa8e5",
   "metadata": {},
   "outputs": [],
   "source": [
    "# np.random.random()\n",
    "def step(z):\n",
    "    if z>= 0.5:\n",
    "        return 1\n",
    "    else:\n",
    "        return 0"
   ]
  },
  {
   "cell_type": "code",
   "execution_count": 25,
   "id": "2d195051",
   "metadata": {},
   "outputs": [],
   "source": [
    "# def perceptron(X,y):\n",
    "    \n",
    "#     X = np.insert(X,0,1,axis=1)\n",
    "#     weights = np.array([0.1, 0.3, 0.2])\n",
    "# #     weights = np.ones(X.shape[1])\n",
    "#     lr = 1\n",
    "    \n",
    "#     for i in range(1000):\n",
    "#         j = np.random.randint(0,X.shape[0])\n",
    "#         y_hat = step(np.dot(weights,X[j]))\n",
    "#         weights = weights + lr*(y[j]-y_hat)*X[j]\n",
    "        \n",
    "#     return weights\n",
    "\n",
    "def perceptron(X,y):\n",
    "    weights = np.array([0.1, 0.3, 0.2])\n",
    "    prev_weight = weights\n",
    "    \n",
    "    lr = 1\n",
    "    all_clear_flag = False\n",
    "    flag = True\n",
    "    position = 0\n",
    "    \n",
    "    while(True):\n",
    "        for i in range(len(X)):\n",
    "            actual = step(summation(weights,X[i]))\n",
    "            if(actual != y[i]):\n",
    "                position = i\n",
    "                \n",
    "               \n",
    "            weights = weights + lr*(y[i]-actual)*X[i]\n",
    "            \n",
    "        if(np.array_equal(weights,prev_weight)):\n",
    "            break\n",
    "            \n",
    "        prev_weight = weights\n",
    "        \n",
    "    return weights"
   ]
  },
  {
   "cell_type": "code",
   "execution_count": 26,
   "id": "9b0b2e97",
   "metadata": {},
   "outputs": [],
   "source": [
    "# X = X_train\n",
    "# weights = np.array([0.1, 0.3, 0.2])\n",
    "# # summation = summation(weights,X[0])"
   ]
  },
  {
   "cell_type": "code",
   "execution_count": 27,
   "id": "d01debc4",
   "metadata": {},
   "outputs": [],
   "source": [
    "adapt_weight = perceptron(X_train,y_train)"
   ]
  },
  {
   "cell_type": "code",
   "execution_count": 28,
   "id": "ec7da55c",
   "metadata": {},
   "outputs": [
    {
     "data": {
      "text/plain": [
       "array([0.1, 0.3, 1.2])"
      ]
     },
     "execution_count": 28,
     "metadata": {},
     "output_type": "execute_result"
    }
   ],
   "source": [
    "adapt_weight"
   ]
  },
  {
   "cell_type": "code",
   "execution_count": null,
   "id": "e29be760",
   "metadata": {},
   "outputs": [],
   "source": []
  },
  {
   "cell_type": "code",
   "execution_count": 29,
   "id": "3b8cda95",
   "metadata": {},
   "outputs": [],
   "source": [
    "# intercept_,coef_ = perceptron(X_train,y_train)\n",
    "coef_ = perceptron(X_train,y_train)"
   ]
  },
  {
   "cell_type": "code",
   "execution_count": 30,
   "id": "5c6db399",
   "metadata": {},
   "outputs": [
    {
     "name": "stdout",
     "output_type": "stream",
     "text": [
      "[0.1 0.3 1.2]\n"
     ]
    }
   ],
   "source": [
    "print(coef_)\n",
    "# print(intercept_)"
   ]
  },
  {
   "cell_type": "markdown",
   "id": "af525bb5",
   "metadata": {},
   "source": [
    "# Accuracy"
   ]
  },
  {
   "cell_type": "code",
   "execution_count": 31,
   "id": "c564b625",
   "metadata": {},
   "outputs": [],
   "source": [
    "# create a list to store the predictions\n",
    "y_pred = []"
   ]
  },
  {
   "cell_type": "code",
   "execution_count": 32,
   "id": "5c79f597",
   "metadata": {},
   "outputs": [],
   "source": [
    "# loop over the test data\n",
    "for test_data in X_test:\n",
    "    # predict the label for the test point\n",
    "    label = step(summation(adapt_weight,test_data))\n",
    "    y_pred.append(label)"
   ]
  },
  {
   "cell_type": "code",
   "execution_count": 33,
   "id": "702cd12e",
   "metadata": {},
   "outputs": [
    {
     "data": {
      "text/plain": [
       "[1]"
      ]
     },
     "execution_count": 33,
     "metadata": {},
     "output_type": "execute_result"
    }
   ],
   "source": [
    "y_pred"
   ]
  },
  {
   "cell_type": "code",
   "execution_count": 34,
   "id": "3846146c",
   "metadata": {},
   "outputs": [
    {
     "data": {
      "text/plain": [
       "array([1])"
      ]
     },
     "execution_count": 34,
     "metadata": {},
     "output_type": "execute_result"
    }
   ],
   "source": [
    "y_test"
   ]
  },
  {
   "cell_type": "code",
   "execution_count": 35,
   "id": "924fc850",
   "metadata": {},
   "outputs": [
    {
     "name": "stdout",
     "output_type": "stream",
     "text": [
      "Accuracy:  100.0 %\n"
     ]
    }
   ],
   "source": [
    "# calculate the accuracy of the classifier\n",
    "accuracy = sum(y_pred == y_test) / len(y_test)\n",
    "print(\"Accuracy: \", accuracy*100, \"%\")"
   ]
  },
  {
   "cell_type": "markdown",
   "id": "1896b9dc",
   "metadata": {},
   "source": [
    "# Input Test Data"
   ]
  },
  {
   "cell_type": "code",
   "execution_count": 36,
   "id": "a232220b",
   "metadata": {},
   "outputs": [],
   "source": [
    "# x1 =int(input(\"Enter x1:\"))\n",
    "# x2 =int(input(\"Enter x2:\"))\n",
    "# x3 =int(input(\"Enter x3:\"))\n",
    "x1 = 1 \n",
    "x2 = 0\n",
    "x3 = 1"
   ]
  },
  {
   "cell_type": "code",
   "execution_count": 37,
   "id": "98560359",
   "metadata": {},
   "outputs": [],
   "source": [
    "test_data = [x1,x2,x3]"
   ]
  },
  {
   "cell_type": "code",
   "execution_count": 38,
   "id": "a090d279",
   "metadata": {},
   "outputs": [
    {
     "data": {
      "text/plain": [
       "list"
      ]
     },
     "execution_count": 38,
     "metadata": {},
     "output_type": "execute_result"
    }
   ],
   "source": [
    "type(test_data)"
   ]
  },
  {
   "cell_type": "code",
   "execution_count": 39,
   "id": "9495b31e",
   "metadata": {},
   "outputs": [],
   "source": [
    "test_data = np.array(test_data)"
   ]
  },
  {
   "cell_type": "code",
   "execution_count": 40,
   "id": "90952cf3",
   "metadata": {},
   "outputs": [
    {
     "data": {
      "text/plain": [
       "array([1, 0, 1])"
      ]
     },
     "execution_count": 40,
     "metadata": {},
     "output_type": "execute_result"
    }
   ],
   "source": [
    "test_data"
   ]
  },
  {
   "cell_type": "code",
   "execution_count": 41,
   "id": "8a5fab34",
   "metadata": {},
   "outputs": [],
   "source": [
    "# adapt_weight"
   ]
  },
  {
   "cell_type": "code",
   "execution_count": 42,
   "id": "76b55d3d",
   "metadata": {},
   "outputs": [],
   "source": [
    "Sum = summation(adapt_weight,test_data)"
   ]
  },
  {
   "cell_type": "code",
   "execution_count": 43,
   "id": "a814bf30",
   "metadata": {},
   "outputs": [],
   "source": [
    "result = step(Sum)"
   ]
  },
  {
   "cell_type": "code",
   "execution_count": 44,
   "id": "b8bbd4c5",
   "metadata": {},
   "outputs": [
    {
     "name": "stdout",
     "output_type": "stream",
     "text": [
      "Output 1\n"
     ]
    }
   ],
   "source": [
    "if result == 0:\n",
    "    print(\"Output 0\")\n",
    "else:\n",
    "    print(\"Output 1\")"
   ]
  },
  {
   "cell_type": "code",
   "execution_count": null,
   "id": "e77862f6",
   "metadata": {},
   "outputs": [],
   "source": []
  }
 ],
 "metadata": {
  "kernelspec": {
   "display_name": "Python 3 (ipykernel)",
   "language": "python",
   "name": "python3"
  },
  "language_info": {
   "codemirror_mode": {
    "name": "ipython",
    "version": 3
   },
   "file_extension": ".py",
   "mimetype": "text/x-python",
   "name": "python",
   "nbconvert_exporter": "python",
   "pygments_lexer": "ipython3",
   "version": "3.9.13"
  }
 },
 "nbformat": 4,
 "nbformat_minor": 5
}
