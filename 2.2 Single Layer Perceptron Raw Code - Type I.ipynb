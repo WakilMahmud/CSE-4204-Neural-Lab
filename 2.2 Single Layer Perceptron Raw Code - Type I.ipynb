{
 "cells": [
  {
   "cell_type": "code",
   "execution_count": 1,
   "id": "fda3578b",
   "metadata": {},
   "outputs": [],
   "source": [
    "import numpy as np\n",
    "import pandas as pd\n",
    "import matplotlib.pyplot as plt\n",
    "import seaborn as sns"
   ]
  },
  {
   "cell_type": "code",
   "execution_count": 2,
   "id": "e0d5976a",
   "metadata": {},
   "outputs": [],
   "source": [
    "# data = pd.read_csv(\"./perceptron_data.csv\")"
   ]
  },
  {
   "cell_type": "code",
   "execution_count": 3,
   "id": "66de80f3",
   "metadata": {},
   "outputs": [],
   "source": [
    "# Generate data\n",
    "import itertools\n",
    "n = 3\n",
    "lst = list(itertools.product([0, 1], repeat=n))\n",
    "data = pd.DataFrame(lst)"
   ]
  },
  {
   "cell_type": "code",
   "execution_count": 4,
   "id": "3c47c98e",
   "metadata": {},
   "outputs": [
    {
     "data": {
      "text/html": [
       "<div>\n",
       "<style scoped>\n",
       "    .dataframe tbody tr th:only-of-type {\n",
       "        vertical-align: middle;\n",
       "    }\n",
       "\n",
       "    .dataframe tbody tr th {\n",
       "        vertical-align: top;\n",
       "    }\n",
       "\n",
       "    .dataframe thead th {\n",
       "        text-align: right;\n",
       "    }\n",
       "</style>\n",
       "<table border=\"1\" class=\"dataframe\">\n",
       "  <thead>\n",
       "    <tr style=\"text-align: right;\">\n",
       "      <th></th>\n",
       "      <th>0</th>\n",
       "      <th>1</th>\n",
       "      <th>2</th>\n",
       "    </tr>\n",
       "  </thead>\n",
       "  <tbody>\n",
       "    <tr>\n",
       "      <th>0</th>\n",
       "      <td>0</td>\n",
       "      <td>0</td>\n",
       "      <td>0</td>\n",
       "    </tr>\n",
       "    <tr>\n",
       "      <th>1</th>\n",
       "      <td>0</td>\n",
       "      <td>0</td>\n",
       "      <td>1</td>\n",
       "    </tr>\n",
       "    <tr>\n",
       "      <th>2</th>\n",
       "      <td>0</td>\n",
       "      <td>1</td>\n",
       "      <td>0</td>\n",
       "    </tr>\n",
       "    <tr>\n",
       "      <th>3</th>\n",
       "      <td>0</td>\n",
       "      <td>1</td>\n",
       "      <td>1</td>\n",
       "    </tr>\n",
       "    <tr>\n",
       "      <th>4</th>\n",
       "      <td>1</td>\n",
       "      <td>0</td>\n",
       "      <td>0</td>\n",
       "    </tr>\n",
       "    <tr>\n",
       "      <th>5</th>\n",
       "      <td>1</td>\n",
       "      <td>0</td>\n",
       "      <td>1</td>\n",
       "    </tr>\n",
       "    <tr>\n",
       "      <th>6</th>\n",
       "      <td>1</td>\n",
       "      <td>1</td>\n",
       "      <td>0</td>\n",
       "    </tr>\n",
       "    <tr>\n",
       "      <th>7</th>\n",
       "      <td>1</td>\n",
       "      <td>1</td>\n",
       "      <td>1</td>\n",
       "    </tr>\n",
       "  </tbody>\n",
       "</table>\n",
       "</div>"
      ],
      "text/plain": [
       "   0  1  2\n",
       "0  0  0  0\n",
       "1  0  0  1\n",
       "2  0  1  0\n",
       "3  0  1  1\n",
       "4  1  0  0\n",
       "5  1  0  1\n",
       "6  1  1  0\n",
       "7  1  1  1"
      ]
     },
     "execution_count": 4,
     "metadata": {},
     "output_type": "execute_result"
    }
   ],
   "source": [
    "data"
   ]
  },
  {
   "cell_type": "code",
   "execution_count": 5,
   "id": "fe877c22",
   "metadata": {},
   "outputs": [],
   "source": [
    "first_half = np.zeros(int(len(data)/2)).astype(int)\n",
    "# first_half"
   ]
  },
  {
   "cell_type": "code",
   "execution_count": 6,
   "id": "3afbb810",
   "metadata": {},
   "outputs": [],
   "source": [
    "second_half = np.ones(int(len(data)/2)).astype(int)\n",
    "# second_half"
   ]
  },
  {
   "cell_type": "code",
   "execution_count": 7,
   "id": "eb7cbc7d",
   "metadata": {},
   "outputs": [],
   "source": [
    "output = np.hstack((first_half, second_half))"
   ]
  },
  {
   "cell_type": "code",
   "execution_count": 8,
   "id": "c0542c36",
   "metadata": {},
   "outputs": [],
   "source": [
    "# output"
   ]
  },
  {
   "cell_type": "code",
   "execution_count": 9,
   "id": "9c48ed52",
   "metadata": {},
   "outputs": [],
   "source": [
    "data['output'] = output"
   ]
  },
  {
   "cell_type": "code",
   "execution_count": 10,
   "id": "28c65baa",
   "metadata": {},
   "outputs": [
    {
     "data": {
      "text/html": [
       "<div>\n",
       "<style scoped>\n",
       "    .dataframe tbody tr th:only-of-type {\n",
       "        vertical-align: middle;\n",
       "    }\n",
       "\n",
       "    .dataframe tbody tr th {\n",
       "        vertical-align: top;\n",
       "    }\n",
       "\n",
       "    .dataframe thead th {\n",
       "        text-align: right;\n",
       "    }\n",
       "</style>\n",
       "<table border=\"1\" class=\"dataframe\">\n",
       "  <thead>\n",
       "    <tr style=\"text-align: right;\">\n",
       "      <th></th>\n",
       "      <th>0</th>\n",
       "      <th>1</th>\n",
       "      <th>2</th>\n",
       "      <th>output</th>\n",
       "    </tr>\n",
       "  </thead>\n",
       "  <tbody>\n",
       "    <tr>\n",
       "      <th>0</th>\n",
       "      <td>0</td>\n",
       "      <td>0</td>\n",
       "      <td>0</td>\n",
       "      <td>0</td>\n",
       "    </tr>\n",
       "    <tr>\n",
       "      <th>1</th>\n",
       "      <td>0</td>\n",
       "      <td>0</td>\n",
       "      <td>1</td>\n",
       "      <td>0</td>\n",
       "    </tr>\n",
       "    <tr>\n",
       "      <th>2</th>\n",
       "      <td>0</td>\n",
       "      <td>1</td>\n",
       "      <td>0</td>\n",
       "      <td>0</td>\n",
       "    </tr>\n",
       "    <tr>\n",
       "      <th>3</th>\n",
       "      <td>0</td>\n",
       "      <td>1</td>\n",
       "      <td>1</td>\n",
       "      <td>0</td>\n",
       "    </tr>\n",
       "    <tr>\n",
       "      <th>4</th>\n",
       "      <td>1</td>\n",
       "      <td>0</td>\n",
       "      <td>0</td>\n",
       "      <td>1</td>\n",
       "    </tr>\n",
       "    <tr>\n",
       "      <th>5</th>\n",
       "      <td>1</td>\n",
       "      <td>0</td>\n",
       "      <td>1</td>\n",
       "      <td>1</td>\n",
       "    </tr>\n",
       "    <tr>\n",
       "      <th>6</th>\n",
       "      <td>1</td>\n",
       "      <td>1</td>\n",
       "      <td>0</td>\n",
       "      <td>1</td>\n",
       "    </tr>\n",
       "    <tr>\n",
       "      <th>7</th>\n",
       "      <td>1</td>\n",
       "      <td>1</td>\n",
       "      <td>1</td>\n",
       "      <td>1</td>\n",
       "    </tr>\n",
       "  </tbody>\n",
       "</table>\n",
       "</div>"
      ],
      "text/plain": [
       "   0  1  2  output\n",
       "0  0  0  0       0\n",
       "1  0  0  1       0\n",
       "2  0  1  0       0\n",
       "3  0  1  1       0\n",
       "4  1  0  0       1\n",
       "5  1  0  1       1\n",
       "6  1  1  0       1\n",
       "7  1  1  1       1"
      ]
     },
     "execution_count": 10,
     "metadata": {},
     "output_type": "execute_result"
    }
   ],
   "source": [
    "data"
   ]
  },
  {
   "cell_type": "code",
   "execution_count": 11,
   "id": "5146dcfa",
   "metadata": {},
   "outputs": [],
   "source": [
    "# i=1\n",
    "# idx = []\n",
    "\n",
    "# while(i<len(data)):\n",
    "#     idx.append(i)\n",
    "#     i = i+2\n",
    "    \n",
    "# data.drop(idx,axis=0, inplace=True)\n",
    "\n",
    "# data = data.reset_index(drop=True)"
   ]
  },
  {
   "cell_type": "code",
   "execution_count": 12,
   "id": "7bb4cc2b",
   "metadata": {},
   "outputs": [],
   "source": [
    "# data = data.reset_index(drop=True)"
   ]
  },
  {
   "cell_type": "code",
   "execution_count": 13,
   "id": "0a14f02b",
   "metadata": {},
   "outputs": [],
   "source": [
    "X = data.iloc[:, 1:data.shape[1]].values"
   ]
  },
  {
   "cell_type": "code",
   "execution_count": 14,
   "id": "03a7eb49",
   "metadata": {
    "scrolled": true
   },
   "outputs": [
    {
     "data": {
      "text/plain": [
       "(8, 3)"
      ]
     },
     "execution_count": 14,
     "metadata": {},
     "output_type": "execute_result"
    }
   ],
   "source": [
    "X.shape"
   ]
  },
  {
   "cell_type": "code",
   "execution_count": 15,
   "id": "ee754253",
   "metadata": {},
   "outputs": [],
   "source": [
    "y = data.iloc[:, -1].values"
   ]
  },
  {
   "cell_type": "code",
   "execution_count": 16,
   "id": "b916be56",
   "metadata": {},
   "outputs": [],
   "source": [
    "desired = y"
   ]
  },
  {
   "cell_type": "code",
   "execution_count": 17,
   "id": "002f8e58",
   "metadata": {},
   "outputs": [
    {
     "data": {
      "text/plain": [
       "(8,)"
      ]
     },
     "execution_count": 17,
     "metadata": {},
     "output_type": "execute_result"
    }
   ],
   "source": [
    "y.shape"
   ]
  },
  {
   "cell_type": "code",
   "execution_count": 18,
   "id": "0393e509",
   "metadata": {},
   "outputs": [
    {
     "data": {
      "text/plain": [
       "(8,)"
      ]
     },
     "execution_count": 18,
     "metadata": {},
     "output_type": "execute_result"
    }
   ],
   "source": [
    "desired.shape"
   ]
  },
  {
   "cell_type": "markdown",
   "id": "82003f0f",
   "metadata": {},
   "source": [
    "# Train Test Split"
   ]
  },
  {
   "cell_type": "code",
   "execution_count": 19,
   "id": "5f1c2a95",
   "metadata": {},
   "outputs": [],
   "source": [
    "train_percentage = 0.8;\n",
    "row = int(data.shape[0]*train_percentage)"
   ]
  },
  {
   "cell_type": "code",
   "execution_count": 20,
   "id": "631e1cbb",
   "metadata": {},
   "outputs": [
    {
     "data": {
      "text/plain": [
       "4"
      ]
     },
     "execution_count": 20,
     "metadata": {},
     "output_type": "execute_result"
    }
   ],
   "source": [
    "data.shape[1]"
   ]
  },
  {
   "cell_type": "code",
   "execution_count": 21,
   "id": "77080e10",
   "metadata": {},
   "outputs": [],
   "source": [
    "X_train = data.iloc[:row, 1:data.shape[1]].values"
   ]
  },
  {
   "cell_type": "code",
   "execution_count": 22,
   "id": "770debaf",
   "metadata": {},
   "outputs": [],
   "source": [
    "X_test = data.iloc[row: ,1:data.shape[1]].values"
   ]
  },
  {
   "cell_type": "code",
   "execution_count": 23,
   "id": "0de97917",
   "metadata": {},
   "outputs": [
    {
     "data": {
      "text/plain": [
       "(6, 3)"
      ]
     },
     "execution_count": 23,
     "metadata": {},
     "output_type": "execute_result"
    }
   ],
   "source": [
    "X_train.shape"
   ]
  },
  {
   "cell_type": "code",
   "execution_count": 24,
   "id": "878dfb24",
   "metadata": {},
   "outputs": [
    {
     "data": {
      "text/plain": [
       "(2, 3)"
      ]
     },
     "execution_count": 24,
     "metadata": {},
     "output_type": "execute_result"
    }
   ],
   "source": [
    "X_test.shape"
   ]
  },
  {
   "cell_type": "code",
   "execution_count": 25,
   "id": "0abdcaf7",
   "metadata": {},
   "outputs": [],
   "source": [
    "y_train = data.iloc[ :row,-1].values"
   ]
  },
  {
   "cell_type": "code",
   "execution_count": 26,
   "id": "661a39f6",
   "metadata": {},
   "outputs": [
    {
     "data": {
      "text/plain": [
       "(6,)"
      ]
     },
     "execution_count": 26,
     "metadata": {},
     "output_type": "execute_result"
    }
   ],
   "source": [
    "y_train.shape"
   ]
  },
  {
   "cell_type": "code",
   "execution_count": 27,
   "id": "275ac16e",
   "metadata": {},
   "outputs": [],
   "source": [
    "y_test = data.iloc[ row:,-1].values"
   ]
  },
  {
   "cell_type": "code",
   "execution_count": 28,
   "id": "cf67ac0e",
   "metadata": {},
   "outputs": [
    {
     "data": {
      "text/plain": [
       "(2,)"
      ]
     },
     "execution_count": 28,
     "metadata": {},
     "output_type": "execute_result"
    }
   ],
   "source": [
    "y_test.shape"
   ]
  },
  {
   "cell_type": "markdown",
   "id": "01b489be",
   "metadata": {},
   "source": [
    "# Single Layer Perceptron"
   ]
  },
  {
   "cell_type": "code",
   "execution_count": 67,
   "id": "393aef52",
   "metadata": {},
   "outputs": [],
   "source": [
    "def summation(W,X):\n",
    "#     print(type(W))\n",
    "#     print(type(X))\n",
    "    result = 0\n",
    "    for i in range(len(W)):\n",
    "        result += W[i]*X[i]\n",
    "\n",
    "    return result"
   ]
  },
  {
   "cell_type": "code",
   "execution_count": 56,
   "id": "22dfa8e5",
   "metadata": {},
   "outputs": [],
   "source": [
    "# np.random.random()\n",
    "def step(z):\n",
    "    if z>= 0.5:\n",
    "        return 1\n",
    "    else:\n",
    "        return 0"
   ]
  },
  {
   "cell_type": "code",
   "execution_count": 57,
   "id": "2d195051",
   "metadata": {},
   "outputs": [],
   "source": [
    "def perceptron(X,y):\n",
    "    weights = np.array([0.1, 0.3, 0.2])\n",
    "    prev_weight = weights\n",
    "    \n",
    "    lr = 1\n",
    "    \n",
    "    while(True):\n",
    "        for j in range(len(X)):\n",
    "            actual = step(summation(weights,X[j]))\n",
    "            weights = weights + lr*(desired[j]-actual)*X[j]\n",
    "            \n",
    "        if(np.array_equal(weights,prev_weight)):\n",
    "            break\n",
    "            \n",
    "        prev_weight = weights\n",
    "        \n",
    "    return weights"
   ]
  },
  {
   "cell_type": "code",
   "execution_count": 58,
   "id": "3b8cda95",
   "metadata": {},
   "outputs": [
    {
     "name": "stdout",
     "output_type": "stream",
     "text": [
      "<class 'numpy.ndarray'>\n",
      "<class 'numpy.ndarray'>\n",
      "<class 'numpy.ndarray'>\n",
      "<class 'numpy.ndarray'>\n",
      "<class 'numpy.ndarray'>\n",
      "<class 'numpy.ndarray'>\n",
      "<class 'numpy.ndarray'>\n",
      "<class 'numpy.ndarray'>\n",
      "<class 'numpy.ndarray'>\n",
      "<class 'numpy.ndarray'>\n",
      "<class 'numpy.ndarray'>\n",
      "<class 'numpy.ndarray'>\n",
      "<class 'numpy.ndarray'>\n",
      "<class 'numpy.ndarray'>\n",
      "<class 'numpy.ndarray'>\n",
      "<class 'numpy.ndarray'>\n",
      "<class 'numpy.ndarray'>\n",
      "<class 'numpy.ndarray'>\n",
      "<class 'numpy.ndarray'>\n",
      "<class 'numpy.ndarray'>\n",
      "<class 'numpy.ndarray'>\n",
      "<class 'numpy.ndarray'>\n",
      "<class 'numpy.ndarray'>\n",
      "<class 'numpy.ndarray'>\n"
     ]
    }
   ],
   "source": [
    "adapt_weight = perceptron(X_train,y_train)"
   ]
  },
  {
   "cell_type": "code",
   "execution_count": 33,
   "id": "5c6db399",
   "metadata": {},
   "outputs": [
    {
     "name": "stdout",
     "output_type": "stream",
     "text": [
      "[0.1 0.3 1.2]\n"
     ]
    }
   ],
   "source": [
    "print(adapt_weight)"
   ]
  },
  {
   "cell_type": "markdown",
   "id": "85ffadb9",
   "metadata": {},
   "source": [
    "# Accuracy"
   ]
  },
  {
   "cell_type": "code",
   "execution_count": 34,
   "id": "03d9907b",
   "metadata": {},
   "outputs": [],
   "source": [
    "# create a list to store the predictions\n",
    "y_pred = []"
   ]
  },
  {
   "cell_type": "code",
   "execution_count": 35,
   "id": "2ba12150",
   "metadata": {},
   "outputs": [],
   "source": [
    "# loop over the test data\n",
    "for test_data in X_test:\n",
    "    # predict the label for the test point\n",
    "    label = step(summation(adapt_weight,test_data))\n",
    "    y_pred.append(label)"
   ]
  },
  {
   "cell_type": "code",
   "execution_count": 36,
   "id": "9769bf31",
   "metadata": {},
   "outputs": [
    {
     "data": {
      "text/plain": [
       "[1, 1]"
      ]
     },
     "execution_count": 36,
     "metadata": {},
     "output_type": "execute_result"
    }
   ],
   "source": [
    "y_pred"
   ]
  },
  {
   "cell_type": "code",
   "execution_count": 37,
   "id": "9fedf12e",
   "metadata": {},
   "outputs": [
    {
     "data": {
      "text/plain": [
       "array([1, 1])"
      ]
     },
     "execution_count": 37,
     "metadata": {},
     "output_type": "execute_result"
    }
   ],
   "source": [
    "y_test"
   ]
  },
  {
   "cell_type": "code",
   "execution_count": 38,
   "id": "474669d8",
   "metadata": {},
   "outputs": [
    {
     "name": "stdout",
     "output_type": "stream",
     "text": [
      "Accuracy:  100.0 %\n"
     ]
    }
   ],
   "source": [
    "# calculate the accuracy of the classifier\n",
    "accuracy = sum(y_pred == y_test) / len(y_test)\n",
    "print(\"Accuracy: \", accuracy*100, \"%\")"
   ]
  },
  {
   "cell_type": "markdown",
   "id": "f3cfad18",
   "metadata": {},
   "source": [
    "# Input Test Data"
   ]
  },
  {
   "cell_type": "code",
   "execution_count": 49,
   "id": "f1ebdd32",
   "metadata": {},
   "outputs": [],
   "source": [
    "# x1 =int(input(\"Enter x1:\"))\n",
    "# x2 =int(input(\"Enter x2:\"))\n",
    "# x3 =int(input(\"Enter x3:\"))\n",
    "x1 = 1 \n",
    "x2 = 0\n",
    "x3 = 1"
   ]
  },
  {
   "cell_type": "code",
   "execution_count": 59,
   "id": "c05886e3",
   "metadata": {},
   "outputs": [],
   "source": [
    "test_data = [x1,x2,x3]"
   ]
  },
  {
   "cell_type": "code",
   "execution_count": 60,
   "id": "b8f41153",
   "metadata": {},
   "outputs": [
    {
     "data": {
      "text/plain": [
       "list"
      ]
     },
     "execution_count": 60,
     "metadata": {},
     "output_type": "execute_result"
    }
   ],
   "source": [
    "type(test_data)"
   ]
  },
  {
   "cell_type": "code",
   "execution_count": 61,
   "id": "25233649",
   "metadata": {},
   "outputs": [],
   "source": [
    "test_data = np.array(test_data)"
   ]
  },
  {
   "cell_type": "code",
   "execution_count": 63,
   "id": "514761a1",
   "metadata": {},
   "outputs": [
    {
     "data": {
      "text/plain": [
       "array([1, 0, 1])"
      ]
     },
     "execution_count": 63,
     "metadata": {},
     "output_type": "execute_result"
    }
   ],
   "source": [
    "test_data"
   ]
  },
  {
   "cell_type": "code",
   "execution_count": 65,
   "id": "d3d3402d",
   "metadata": {},
   "outputs": [
    {
     "data": {
      "text/plain": [
       "array([0.1, 0.3, 1.2])"
      ]
     },
     "execution_count": 65,
     "metadata": {},
     "output_type": "execute_result"
    }
   ],
   "source": [
    "adapt_weight"
   ]
  },
  {
   "cell_type": "code",
   "execution_count": 70,
   "id": "d5ffbbd3",
   "metadata": {},
   "outputs": [],
   "source": [
    "Sum = summation(adapt_weight,test_data)"
   ]
  },
  {
   "cell_type": "code",
   "execution_count": 71,
   "id": "5c08d2a0",
   "metadata": {},
   "outputs": [],
   "source": [
    "result = step(Sum)"
   ]
  },
  {
   "cell_type": "code",
   "execution_count": 72,
   "id": "7cd0d43d",
   "metadata": {},
   "outputs": [
    {
     "data": {
      "text/plain": [
       "1"
      ]
     },
     "execution_count": 72,
     "metadata": {},
     "output_type": "execute_result"
    }
   ],
   "source": [
    "if result == 0:\n",
    "    print(\"Output 0\")\n",
    "else:\n",
    "    print(\"Output 1\")"
   ]
  },
  {
   "cell_type": "code",
   "execution_count": null,
   "id": "ce574eda",
   "metadata": {},
   "outputs": [],
   "source": []
  }
 ],
 "metadata": {
  "kernelspec": {
   "display_name": "Python 3 (ipykernel)",
   "language": "python",
   "name": "python3"
  },
  "language_info": {
   "codemirror_mode": {
    "name": "ipython",
    "version": 3
   },
   "file_extension": ".py",
   "mimetype": "text/x-python",
   "name": "python",
   "nbconvert_exporter": "python",
   "pygments_lexer": "ipython3",
   "version": "3.9.13"
  }
 },
 "nbformat": 4,
 "nbformat_minor": 5
}
