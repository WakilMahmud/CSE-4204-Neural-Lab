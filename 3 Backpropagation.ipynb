{
 "cells": [
  {
   "cell_type": "code",
   "execution_count": 1,
   "id": "55955dfe",
   "metadata": {},
   "outputs": [],
   "source": [
    "import numpy as np\n",
    "import pandas as pd\n",
    "import matplotlib.pyplot as plt\n",
    "import seaborn as sns"
   ]
  },
  {
   "cell_type": "code",
   "execution_count": 2,
   "id": "5f2be6b2",
   "metadata": {},
   "outputs": [],
   "source": [
    "o_ai = np.random.uniform(0,1,2)\n",
    "t_ak = np.random.uniform(0,1,2)\n",
    "u = np.random.uniform(0,1,2)\n",
    "\n",
    "# o_ai = np.array([0.05, 0.10])\n",
    "# t_ak = np.array([0.01, 0.99])\n",
    "# u = np.array([0.35, 0.60])  #threshold or bias"
   ]
  },
  {
   "cell_type": "code",
   "execution_count": 3,
   "id": "1ebfe84f",
   "metadata": {},
   "outputs": [],
   "source": [
    "w_ij = np.random.uniform(0,1,4).reshape(2,2)\n",
    "\n",
    "# w_ij = np.array([[0.15, 0.25],[0.20, 0.30]])"
   ]
  },
  {
   "cell_type": "code",
   "execution_count": 4,
   "id": "6526f727",
   "metadata": {},
   "outputs": [
    {
     "data": {
      "text/plain": [
       "array([[0.15, 0.25],\n",
       "       [0.2 , 0.3 ]])"
      ]
     },
     "execution_count": 4,
     "metadata": {},
     "output_type": "execute_result"
    }
   ],
   "source": [
    "w_ij"
   ]
  },
  {
   "cell_type": "code",
   "execution_count": 5,
   "id": "336c8686",
   "metadata": {},
   "outputs": [],
   "source": [
    "w_jk = np.random.uniform(0,1,4).reshape(2,2)\n",
    "# w_jk = np.array([[0.40, 0.50],[0.45, 0.55]])"
   ]
  },
  {
   "cell_type": "code",
   "execution_count": 6,
   "id": "7934429c",
   "metadata": {},
   "outputs": [
    {
     "data": {
      "text/plain": [
       "array([[0.4 , 0.5 ],\n",
       "       [0.45, 0.55]])"
      ]
     },
     "execution_count": 6,
     "metadata": {},
     "output_type": "execute_result"
    }
   ],
   "source": [
    "w_jk"
   ]
  },
  {
   "cell_type": "code",
   "execution_count": 7,
   "id": "d1d3723f",
   "metadata": {},
   "outputs": [],
   "source": [
    "n1 = np.random.random()\n",
    "k1 = np.random.random()\n",
    "n2 = np.random.random()\n",
    "k2 = np.random.random()\n",
    "\n",
    "# n1 = 1\n",
    "# k1 = 1\n",
    "# n2 = 1\n",
    "# k2=1"
   ]
  },
  {
   "cell_type": "code",
   "execution_count": 8,
   "id": "4b71dc82",
   "metadata": {},
   "outputs": [],
   "source": [
    "# w_jk[1][0]"
   ]
  },
  {
   "cell_type": "code",
   "execution_count": 9,
   "id": "5ce1241a",
   "metadata": {},
   "outputs": [],
   "source": [
    "def summation(W,X):\n",
    "    result = []\n",
    "    for i in range(len(X)):\n",
    "        SUM = 0\n",
    "        for j in range(W.shape[0]):\n",
    "            SUM += W[j][i]*X[j]\n",
    "            \n",
    "        result.append(SUM)\n",
    "        \n",
    "        \n",
    "    return result"
   ]
  },
  {
   "cell_type": "code",
   "execution_count": 10,
   "id": "5affb6d9",
   "metadata": {},
   "outputs": [],
   "source": [
    "def SUM(del_a,w):\n",
    "#     print(w.shape[0])\n",
    "    result = []\n",
    "    for i in range(len(del_a)):\n",
    "        SUM = 0\n",
    "        for j in range(w.shape[0]):\n",
    "            SUM += del_a[j]*w[i][j]\n",
    "            \n",
    "        result.append(SUM)\n",
    "        \n",
    "        \n",
    "    return result"
   ]
  },
  {
   "cell_type": "code",
   "execution_count": 11,
   "id": "7c7310d5",
   "metadata": {},
   "outputs": [],
   "source": [
    "def sigmoid(x):\n",
    "    return 1 / (1 + np.exp(-k1*x))\n"
   ]
  },
  {
   "cell_type": "code",
   "execution_count": 12,
   "id": "442bdd23",
   "metadata": {},
   "outputs": [
    {
     "name": "stdout",
     "output_type": "stream",
     "text": [
      "0.2983711087600027\n",
      "0.2836545113747834\n",
      "0.2684442707050492\n",
      "0.25287022678156595\n",
      "0.23709641716632676\n",
      "0.2213134561430947\n",
      "0.2057264884289774\n",
      "0.19054009326459653\n",
      "0.17594250388959912\n",
      "0.16209188570781513\n",
      "0.14910696016352573\n",
      "0.13706312595161735\n",
      "0.12599387718571078\n",
      "0.1158962546465324\n",
      "0.10673858013004695\n",
      "0.09846880447868728\n",
      "0.09102223480409258\n",
      "0.0843279438018403\n",
      "0.07831362550889655\n",
      "0.0729089721571955\n",
      "0.06804780799624183\n",
      "0.06366926679404747\n",
      "0.059718284794992055\n",
      "0.05614563564682926\n",
      "0.05290768085852349\n",
      "0.049965960627511366\n",
      "0.04728671012284694\n",
      "0.044840356248378475\n",
      "0.04260102838912106\n",
      "0.040546101906172756\n",
      "0.03865578345242824\n",
      "0.03691274106889894\n",
      "0.03530177835870773\n",
      "0.033809549996030974\n",
      "0.03242431482923452\n",
      "0.031135722484903414\n",
      "0.029934629409109757\n",
      "0.028812940523430697\n",
      "0.027763473018142207\n",
      "0.026779839187701576\n",
      "0.02585634559538869\n",
      "0.024987906213503955\n",
      "0.024169967512413324\n",
      "0.023398443762165357\n",
      "0.022669661064422014\n",
      "0.021980308852173357\n",
      "0.021327397783303653\n",
      "0.020708223115069424\n",
      "0.020120332783456735\n",
      "0.019561499527515014\n",
      "0.01902969649711059\n",
      "0.01852307586576172\n",
      "0.018039950040612117\n",
      "0.017578775121157835\n",
      "0.01713813630876062\n",
      "0.016716735011692213\n",
      "0.016313377426678634\n",
      "0.015926964408669222\n",
      "0.015556482466706564\n",
      "0.01520099574604019\n",
      "0.014859638875615498\n",
      "0.014531610576290412\n",
      "0.014216167939008931\n",
      "0.013912621294056047\n",
      "0.013620329602728437\n",
      "0.013338696311538435\n",
      "0.013067165616633881\n",
      "0.012805219092646578\n",
      "0.012552372645826416\n",
      "0.01230817375620799\n",
      "0.012072198977796557\n",
      "0.011844051669446957\n",
      "0.011623359932316528\n",
      "0.011409774732571216\n",
      "0.01120296819046655\n",
      "0.011002632019063461\n",
      "0.010808476097710644\n",
      "0.010620227167069684\n",
      "0.010437627633903221\n",
      "0.010260434475118239\n",
      "0.010088418231678133\n",
      "0.009921362083986732\n",
      "0.009759061001223146\n",
      "0.009601320957881495\n",
      "0.009447958211456681\n",
      "0.009298798635828297\n",
      "0.009153677105436717\n",
      "0.009012436925829825\n",
      "0.008874929306588281\n",
      "0.008741012873023295\n",
      "0.008610553213383441\n",
      "0.008483422458615626\n",
      "0.008359498892000411\n",
      "0.008238666586229479\n",
      "0.008120815065715131\n",
      "0.008005838992121338\n",
      "0.00789363787128577\n",
      "0.007784115779864171\n",
      "0.007677181110174791\n",
      "0.00757274633185235\n",
      "0.0074707277690406575\n",
      "0.007371045391960873\n",
      "0.007273622621790363\n",
      "0.007178386147875764\n",
      "0.0070852657563844415\n",
      "0.006994194169572111\n",
      "0.006905106894910083\n",
      "0.00681794208337734\n",
      "0.00673264039627698\n",
      "0.006649144879987334\n",
      "0.006567400848104031\n",
      "0.006487355770471092\n",
      "0.00640895916863779\n",
      "0.006332162517312837\n",
      "0.0062569191514200324\n",
      "0.006183184178388633\n",
      "0.006110914395339052\n",
      "0.006040068210849054\n",
      "0.0059706055710088265\n",
      "0.005902487889493824\n",
      "0.005835677981404035\n",
      "0.005770140000635748\n",
      "0.005705839380568531\n",
      "0.00564274277786511\n",
      "0.005580818019195674\n",
      "0.005520034050711487\n",
      "0.00546036089010379\n",
      "0.005401769581095745\n",
      "0.005344232150224854\n",
      "0.005287721565782923\n",
      "0.005232211698789372\n",
      "0.0051776772858815635\n",
      "0.005124093894013658\n",
      "0.005071437886862174\n",
      "0.00501968639284316\n",
      "0.004968817274651549\n"
     ]
    }
   ],
   "source": [
    "Min_Error = 0.005\n",
    "\n",
    "while(True):\n",
    "    # EQUATION 1\n",
    "    net_aj = summation(w_ij, o_ai)\n",
    "    \n",
    "    # EQUATION 2\n",
    "    u_hj = u[0]\n",
    "    activ_j = net_aj + u_hj\n",
    "    \n",
    "    # EQUATION 3\n",
    "    o_aj = sigmoid(activ_j)\n",
    "    \n",
    "    # EQUATION 4\n",
    "    net_ak = summation(w_jk, o_aj)\n",
    "    \n",
    "    # EQUATION 5\n",
    "    u_ok = u[1]\n",
    "    activo_k = net_ak + u_ok\n",
    "    \n",
    "    # EQUATION 6\n",
    "    o_ak = sigmoid(activo_k)\n",
    "    \n",
    "    # EQUATION 7\n",
    "    del_ak = t_ak - o_ak\n",
    "    \n",
    "     # EQUATION 16\n",
    "    Error = 0.5*sum(np.power((t_ak-o_ak),2))\n",
    "    print(Error)\n",
    "    \n",
    "    if(Error <= Min_Error):\n",
    "        break\n",
    "    \n",
    "    # EQUATION 8\n",
    "    del_w_jk = n2*k2*del_ak*o_aj*o_ak*(1-o_ak)\n",
    "    \n",
    "    # EQUATION 9\n",
    "    w_jk = w_jk + del_w_jk\n",
    "    \n",
    "    # EQUATION 10\n",
    "    del_u_ok = n2*k2*del_ak*o_ak*(1-o_ak)\n",
    "    \n",
    "    # EQUATION 11\n",
    "    u_ok = u_ok + del_u_ok\n",
    "    \n",
    "    # EQUATION 12\n",
    "    del_w_ij = n2*k2*o_ai*o_aj*(1-o_aj)*SUM(del_ak,w_jk)\n",
    "    \n",
    "    # EQUATION 13\n",
    "    w_ij = w_ij + del_w_ij\n",
    "    \n",
    "    # EQUATION 14\n",
    "    del_u_hj = n1*k1*o_aj*(1-o_aj)*SUM(del_ak,w_jk)\n",
    "    \n",
    "    # EQUATION 15\n",
    "    u_hj = u_hj + del_u_hj\n",
    "    \n",
    "   "
   ]
  },
  {
   "cell_type": "code",
   "execution_count": 13,
   "id": "2b6a041e",
   "metadata": {},
   "outputs": [
    {
     "data": {
      "text/plain": [
       "array([[0.73371873, 1.38828193],\n",
       "       [0.78371873, 1.43828193]])"
      ]
     },
     "execution_count": 13,
     "metadata": {},
     "output_type": "execute_result"
    }
   ],
   "source": [
    "w_ij"
   ]
  },
  {
   "cell_type": "code",
   "execution_count": 14,
   "id": "cda2420d",
   "metadata": {},
   "outputs": [
    {
     "data": {
      "text/plain": [
       "array([[-2.39827661,  1.50206005],\n",
       "       [-2.34827661,  1.55206005]])"
      ]
     },
     "execution_count": 14,
     "metadata": {},
     "output_type": "execute_result"
    }
   ],
   "source": [
    "w_jk"
   ]
  },
  {
   "cell_type": "code",
   "execution_count": null,
   "id": "322c66e5",
   "metadata": {},
   "outputs": [],
   "source": []
  },
  {
   "cell_type": "code",
   "execution_count": null,
   "id": "37ba045c",
   "metadata": {},
   "outputs": [],
   "source": []
  },
  {
   "cell_type": "code",
   "execution_count": 15,
   "id": "96f1cf8e",
   "metadata": {},
   "outputs": [],
   "source": [
    "# # EQUATION 1\n",
    "# net_aj = summation(w_ij, o_ai)"
   ]
  },
  {
   "cell_type": "code",
   "execution_count": 16,
   "id": "77f7480f",
   "metadata": {},
   "outputs": [],
   "source": [
    "# net_aj"
   ]
  },
  {
   "cell_type": "code",
   "execution_count": 17,
   "id": "7fb711fd",
   "metadata": {},
   "outputs": [],
   "source": [
    "# # EQUATION 2\n",
    "# u_hj = u[0]\n",
    "# activ_j = net_aj + u_hj"
   ]
  },
  {
   "cell_type": "code",
   "execution_count": 18,
   "id": "00d81e8e",
   "metadata": {},
   "outputs": [],
   "source": [
    "# # EQUATION 3\n",
    "# o_aj = sigmoid(activ_j)"
   ]
  },
  {
   "cell_type": "code",
   "execution_count": 19,
   "id": "c99ea733",
   "metadata": {},
   "outputs": [],
   "source": [
    "# o_aj"
   ]
  },
  {
   "cell_type": "code",
   "execution_count": 20,
   "id": "b3519e18",
   "metadata": {},
   "outputs": [],
   "source": [
    "# # EQUATION 4\n",
    "# net_ak = summation(w_jk, o_aj)"
   ]
  },
  {
   "cell_type": "code",
   "execution_count": 21,
   "id": "9dbbb17a",
   "metadata": {},
   "outputs": [],
   "source": [
    "# # EQUATION 5\n",
    "# u_ok = u[1]\n",
    "# activo_k = net_ak + u_ok"
   ]
  },
  {
   "cell_type": "code",
   "execution_count": 22,
   "id": "510639b5",
   "metadata": {},
   "outputs": [],
   "source": [
    "# # EQUATION 6\n",
    "# o_ak = sigmoid(activo_k)"
   ]
  },
  {
   "cell_type": "code",
   "execution_count": 23,
   "id": "7bf98a46",
   "metadata": {},
   "outputs": [],
   "source": [
    "# o_ak"
   ]
  },
  {
   "cell_type": "code",
   "execution_count": 24,
   "id": "8f851ced",
   "metadata": {},
   "outputs": [],
   "source": [
    "# # EQUATION 7\n",
    "# del_ak = t_ak - o_ak"
   ]
  },
  {
   "cell_type": "code",
   "execution_count": 25,
   "id": "395c84ea",
   "metadata": {},
   "outputs": [],
   "source": [
    "# del_ak"
   ]
  },
  {
   "cell_type": "code",
   "execution_count": 26,
   "id": "71913c6a",
   "metadata": {},
   "outputs": [],
   "source": [
    "# # EQUATION 8\n",
    "# n2=1\n",
    "# k2=1\n",
    "# del_w_jk = n2*k2*del_ak*o_aj*o_ak*(1-o_ak)"
   ]
  },
  {
   "cell_type": "code",
   "execution_count": 27,
   "id": "6f89522b",
   "metadata": {},
   "outputs": [],
   "source": [
    "# # EQUATION 9\n",
    "# w_jk = w_jk + del_w_jk"
   ]
  },
  {
   "cell_type": "code",
   "execution_count": 28,
   "id": "e4408359",
   "metadata": {},
   "outputs": [],
   "source": [
    "# w_jk"
   ]
  },
  {
   "cell_type": "code",
   "execution_count": 29,
   "id": "d272f404",
   "metadata": {},
   "outputs": [],
   "source": [
    "# # EQUATION 10\n",
    "# del_u_ok = n2*k2*del_ak*o_ak*(1-o_ak)"
   ]
  },
  {
   "cell_type": "code",
   "execution_count": 30,
   "id": "0b36de7d",
   "metadata": {},
   "outputs": [],
   "source": [
    "# del_u_ok"
   ]
  },
  {
   "cell_type": "code",
   "execution_count": 31,
   "id": "ba3ee0b9",
   "metadata": {},
   "outputs": [],
   "source": [
    "# # EQUATION 11\n",
    "# u_ok = u_ok + del_u_ok"
   ]
  },
  {
   "cell_type": "code",
   "execution_count": 32,
   "id": "cdcbe11a",
   "metadata": {},
   "outputs": [],
   "source": [
    "# u_ok"
   ]
  },
  {
   "cell_type": "code",
   "execution_count": 33,
   "id": "0d80f934",
   "metadata": {},
   "outputs": [],
   "source": [
    "# del_ak"
   ]
  },
  {
   "cell_type": "code",
   "execution_count": 34,
   "id": "ecac84b5",
   "metadata": {},
   "outputs": [],
   "source": [
    "# w_jk"
   ]
  },
  {
   "cell_type": "code",
   "execution_count": 35,
   "id": "6e3b079e",
   "metadata": {},
   "outputs": [],
   "source": [
    "# result = SUM(del_ak,w_jk)"
   ]
  },
  {
   "cell_type": "code",
   "execution_count": 36,
   "id": "04df0724",
   "metadata": {},
   "outputs": [],
   "source": [
    "# result"
   ]
  },
  {
   "cell_type": "code",
   "execution_count": 37,
   "id": "0dd097ee",
   "metadata": {},
   "outputs": [],
   "source": [
    "# # EQUATION 12\n",
    "# n1=1\n",
    "# k1=1\n",
    "# del_w_ij = n2*k2*o_ai*o_aj*(1-o_aj)*SUM(del_ak,w_jk)"
   ]
  },
  {
   "cell_type": "code",
   "execution_count": 38,
   "id": "1197d2da",
   "metadata": {},
   "outputs": [],
   "source": [
    "# del_w_ij"
   ]
  },
  {
   "cell_type": "code",
   "execution_count": 39,
   "id": "0647f3ff",
   "metadata": {},
   "outputs": [],
   "source": [
    "# # EQUATION 13\n",
    "# w_ij = w_ij + del_w_ij"
   ]
  },
  {
   "cell_type": "code",
   "execution_count": 40,
   "id": "7a58fe4e",
   "metadata": {},
   "outputs": [],
   "source": [
    "# # EQUATION 14\n",
    "# n1=1\n",
    "# k1=1\n",
    "# del_u_hj = n1*k1*o_aj*(1-o_aj)*SUM(del_ak,w_jk)"
   ]
  },
  {
   "cell_type": "code",
   "execution_count": 41,
   "id": "e5a965b8",
   "metadata": {},
   "outputs": [],
   "source": [
    "# # EQUATION 15\n",
    "# u_hj = u_hj + del_u_hj"
   ]
  },
  {
   "cell_type": "code",
   "execution_count": 42,
   "id": "6b40cd25",
   "metadata": {},
   "outputs": [],
   "source": [
    "# t_ak"
   ]
  },
  {
   "cell_type": "code",
   "execution_count": 43,
   "id": "6c8f76fe",
   "metadata": {},
   "outputs": [],
   "source": [
    "# o_ak"
   ]
  },
  {
   "cell_type": "code",
   "execution_count": 44,
   "id": "5d96ae01",
   "metadata": {},
   "outputs": [],
   "source": [
    "# sum((t_ak-o_ak)*(t_ak-o_ak))"
   ]
  },
  {
   "cell_type": "code",
   "execution_count": 45,
   "id": "a987a178",
   "metadata": {},
   "outputs": [],
   "source": [
    "# # EQUATION 16\n",
    "# Error = 0.5*sum((t_ak-o_ak)*(t_ak-o_ak))"
   ]
  },
  {
   "cell_type": "code",
   "execution_count": 46,
   "id": "6bcb65a5",
   "metadata": {},
   "outputs": [],
   "source": [
    "# Error"
   ]
  },
  {
   "cell_type": "code",
   "execution_count": null,
   "id": "fa694712",
   "metadata": {},
   "outputs": [],
   "source": []
  },
  {
   "cell_type": "code",
   "execution_count": 47,
   "id": "6d3c856b",
   "metadata": {},
   "outputs": [],
   "source": [
    "# sum(np.power((t_ak-o_ak),2))"
   ]
  },
  {
   "cell_type": "code",
   "execution_count": null,
   "id": "32b97f46",
   "metadata": {},
   "outputs": [],
   "source": []
  }
 ],
 "metadata": {
  "kernelspec": {
   "display_name": "Python 3 (ipykernel)",
   "language": "python",
   "name": "python3"
  },
  "language_info": {
   "codemirror_mode": {
    "name": "ipython",
    "version": 3
   },
   "file_extension": ".py",
   "mimetype": "text/x-python",
   "name": "python",
   "nbconvert_exporter": "python",
   "pygments_lexer": "ipython3",
   "version": "3.9.13"
  }
 },
 "nbformat": 4,
 "nbformat_minor": 5
}
