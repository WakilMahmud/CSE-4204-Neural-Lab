{
 "cells": [
  {
   "cell_type": "code",
   "execution_count": 1,
   "id": "fda3578b",
   "metadata": {},
   "outputs": [],
   "source": [
    "import numpy as np\n",
    "import pandas as pd\n",
    "import matplotlib.pyplot as plt\n",
    "import seaborn as sns"
   ]
  },
  {
   "cell_type": "code",
   "execution_count": 2,
   "id": "e0d5976a",
   "metadata": {},
   "outputs": [],
   "source": [
    "# data = pd.read_csv(\"./perceptron_data.csv\")"
   ]
  },
  {
   "cell_type": "code",
   "execution_count": 3,
   "id": "75540515",
   "metadata": {},
   "outputs": [],
   "source": [
    "# Generate data\n",
    "import itertools\n",
    "n = 3\n",
    "lst = list(itertools.product([0, 1], repeat=n))\n",
    "data = pd.DataFrame(lst)"
   ]
  },
  {
   "cell_type": "code",
   "execution_count": 4,
   "id": "66de80f3",
   "metadata": {},
   "outputs": [
    {
     "data": {
      "text/html": [
       "<div>\n",
       "<style scoped>\n",
       "    .dataframe tbody tr th:only-of-type {\n",
       "        vertical-align: middle;\n",
       "    }\n",
       "\n",
       "    .dataframe tbody tr th {\n",
       "        vertical-align: top;\n",
       "    }\n",
       "\n",
       "    .dataframe thead th {\n",
       "        text-align: right;\n",
       "    }\n",
       "</style>\n",
       "<table border=\"1\" class=\"dataframe\">\n",
       "  <thead>\n",
       "    <tr style=\"text-align: right;\">\n",
       "      <th></th>\n",
       "      <th>0</th>\n",
       "      <th>1</th>\n",
       "      <th>2</th>\n",
       "    </tr>\n",
       "  </thead>\n",
       "  <tbody>\n",
       "    <tr>\n",
       "      <th>0</th>\n",
       "      <td>0</td>\n",
       "      <td>0</td>\n",
       "      <td>0</td>\n",
       "    </tr>\n",
       "    <tr>\n",
       "      <th>1</th>\n",
       "      <td>0</td>\n",
       "      <td>0</td>\n",
       "      <td>1</td>\n",
       "    </tr>\n",
       "    <tr>\n",
       "      <th>2</th>\n",
       "      <td>0</td>\n",
       "      <td>1</td>\n",
       "      <td>0</td>\n",
       "    </tr>\n",
       "    <tr>\n",
       "      <th>3</th>\n",
       "      <td>0</td>\n",
       "      <td>1</td>\n",
       "      <td>1</td>\n",
       "    </tr>\n",
       "    <tr>\n",
       "      <th>4</th>\n",
       "      <td>1</td>\n",
       "      <td>0</td>\n",
       "      <td>0</td>\n",
       "    </tr>\n",
       "    <tr>\n",
       "      <th>5</th>\n",
       "      <td>1</td>\n",
       "      <td>0</td>\n",
       "      <td>1</td>\n",
       "    </tr>\n",
       "    <tr>\n",
       "      <th>6</th>\n",
       "      <td>1</td>\n",
       "      <td>1</td>\n",
       "      <td>0</td>\n",
       "    </tr>\n",
       "    <tr>\n",
       "      <th>7</th>\n",
       "      <td>1</td>\n",
       "      <td>1</td>\n",
       "      <td>1</td>\n",
       "    </tr>\n",
       "  </tbody>\n",
       "</table>\n",
       "</div>"
      ],
      "text/plain": [
       "   0  1  2\n",
       "0  0  0  0\n",
       "1  0  0  1\n",
       "2  0  1  0\n",
       "3  0  1  1\n",
       "4  1  0  0\n",
       "5  1  0  1\n",
       "6  1  1  0\n",
       "7  1  1  1"
      ]
     },
     "execution_count": 4,
     "metadata": {},
     "output_type": "execute_result"
    }
   ],
   "source": [
    "data"
   ]
  },
  {
   "cell_type": "code",
   "execution_count": 5,
   "id": "22a3be53",
   "metadata": {},
   "outputs": [],
   "source": [
    "first_half = np.zeros(int(len(data)/2)).astype(int)\n",
    "# first_half"
   ]
  },
  {
   "cell_type": "code",
   "execution_count": 6,
   "id": "d93aa360",
   "metadata": {},
   "outputs": [],
   "source": [
    "second_half = np.ones(int(len(data)/2)).astype(int)\n",
    "# second_half"
   ]
  },
  {
   "cell_type": "code",
   "execution_count": 7,
   "id": "63964251",
   "metadata": {},
   "outputs": [],
   "source": [
    "output = np.hstack((first_half, second_half))"
   ]
  },
  {
   "cell_type": "code",
   "execution_count": 8,
   "id": "a131eb0b",
   "metadata": {},
   "outputs": [],
   "source": [
    "data['output'] = output"
   ]
  },
  {
   "cell_type": "code",
   "execution_count": 9,
   "id": "cdaa53f7",
   "metadata": {},
   "outputs": [
    {
     "data": {
      "text/html": [
       "<div>\n",
       "<style scoped>\n",
       "    .dataframe tbody tr th:only-of-type {\n",
       "        vertical-align: middle;\n",
       "    }\n",
       "\n",
       "    .dataframe tbody tr th {\n",
       "        vertical-align: top;\n",
       "    }\n",
       "\n",
       "    .dataframe thead th {\n",
       "        text-align: right;\n",
       "    }\n",
       "</style>\n",
       "<table border=\"1\" class=\"dataframe\">\n",
       "  <thead>\n",
       "    <tr style=\"text-align: right;\">\n",
       "      <th></th>\n",
       "      <th>0</th>\n",
       "      <th>1</th>\n",
       "      <th>2</th>\n",
       "      <th>output</th>\n",
       "    </tr>\n",
       "  </thead>\n",
       "  <tbody>\n",
       "    <tr>\n",
       "      <th>0</th>\n",
       "      <td>0</td>\n",
       "      <td>0</td>\n",
       "      <td>0</td>\n",
       "      <td>0</td>\n",
       "    </tr>\n",
       "    <tr>\n",
       "      <th>1</th>\n",
       "      <td>0</td>\n",
       "      <td>0</td>\n",
       "      <td>1</td>\n",
       "      <td>0</td>\n",
       "    </tr>\n",
       "    <tr>\n",
       "      <th>2</th>\n",
       "      <td>0</td>\n",
       "      <td>1</td>\n",
       "      <td>0</td>\n",
       "      <td>0</td>\n",
       "    </tr>\n",
       "    <tr>\n",
       "      <th>3</th>\n",
       "      <td>0</td>\n",
       "      <td>1</td>\n",
       "      <td>1</td>\n",
       "      <td>0</td>\n",
       "    </tr>\n",
       "    <tr>\n",
       "      <th>4</th>\n",
       "      <td>1</td>\n",
       "      <td>0</td>\n",
       "      <td>0</td>\n",
       "      <td>1</td>\n",
       "    </tr>\n",
       "    <tr>\n",
       "      <th>5</th>\n",
       "      <td>1</td>\n",
       "      <td>0</td>\n",
       "      <td>1</td>\n",
       "      <td>1</td>\n",
       "    </tr>\n",
       "    <tr>\n",
       "      <th>6</th>\n",
       "      <td>1</td>\n",
       "      <td>1</td>\n",
       "      <td>0</td>\n",
       "      <td>1</td>\n",
       "    </tr>\n",
       "    <tr>\n",
       "      <th>7</th>\n",
       "      <td>1</td>\n",
       "      <td>1</td>\n",
       "      <td>1</td>\n",
       "      <td>1</td>\n",
       "    </tr>\n",
       "  </tbody>\n",
       "</table>\n",
       "</div>"
      ],
      "text/plain": [
       "   0  1  2  output\n",
       "0  0  0  0       0\n",
       "1  0  0  1       0\n",
       "2  0  1  0       0\n",
       "3  0  1  1       0\n",
       "4  1  0  0       1\n",
       "5  1  0  1       1\n",
       "6  1  1  0       1\n",
       "7  1  1  1       1"
      ]
     },
     "execution_count": 9,
     "metadata": {},
     "output_type": "execute_result"
    }
   ],
   "source": [
    "data"
   ]
  },
  {
   "cell_type": "markdown",
   "id": "5ea04333",
   "metadata": {},
   "source": [
    "# Groupwise separate data"
   ]
  },
  {
   "cell_type": "code",
   "execution_count": 10,
   "id": "a6803a04",
   "metadata": {},
   "outputs": [],
   "source": [
    "def groupData(val):\n",
    "    mask = data['output']==val\n",
    "    return data[mask]"
   ]
  },
  {
   "cell_type": "code",
   "execution_count": 11,
   "id": "01667508",
   "metadata": {},
   "outputs": [],
   "source": [
    "group_0 = groupData(0)"
   ]
  },
  {
   "cell_type": "code",
   "execution_count": 12,
   "id": "2abf46b0",
   "metadata": {},
   "outputs": [
    {
     "data": {
      "text/html": [
       "<div>\n",
       "<style scoped>\n",
       "    .dataframe tbody tr th:only-of-type {\n",
       "        vertical-align: middle;\n",
       "    }\n",
       "\n",
       "    .dataframe tbody tr th {\n",
       "        vertical-align: top;\n",
       "    }\n",
       "\n",
       "    .dataframe thead th {\n",
       "        text-align: right;\n",
       "    }\n",
       "</style>\n",
       "<table border=\"1\" class=\"dataframe\">\n",
       "  <thead>\n",
       "    <tr style=\"text-align: right;\">\n",
       "      <th></th>\n",
       "      <th>0</th>\n",
       "      <th>1</th>\n",
       "      <th>2</th>\n",
       "      <th>output</th>\n",
       "    </tr>\n",
       "  </thead>\n",
       "  <tbody>\n",
       "    <tr>\n",
       "      <th>0</th>\n",
       "      <td>0</td>\n",
       "      <td>0</td>\n",
       "      <td>0</td>\n",
       "      <td>0</td>\n",
       "    </tr>\n",
       "    <tr>\n",
       "      <th>1</th>\n",
       "      <td>0</td>\n",
       "      <td>0</td>\n",
       "      <td>1</td>\n",
       "      <td>0</td>\n",
       "    </tr>\n",
       "    <tr>\n",
       "      <th>2</th>\n",
       "      <td>0</td>\n",
       "      <td>1</td>\n",
       "      <td>0</td>\n",
       "      <td>0</td>\n",
       "    </tr>\n",
       "    <tr>\n",
       "      <th>3</th>\n",
       "      <td>0</td>\n",
       "      <td>1</td>\n",
       "      <td>1</td>\n",
       "      <td>0</td>\n",
       "    </tr>\n",
       "  </tbody>\n",
       "</table>\n",
       "</div>"
      ],
      "text/plain": [
       "   0  1  2  output\n",
       "0  0  0  0       0\n",
       "1  0  0  1       0\n",
       "2  0  1  0       0\n",
       "3  0  1  1       0"
      ]
     },
     "execution_count": 12,
     "metadata": {},
     "output_type": "execute_result"
    }
   ],
   "source": [
    "group_0"
   ]
  },
  {
   "cell_type": "code",
   "execution_count": 13,
   "id": "43d237b7",
   "metadata": {},
   "outputs": [],
   "source": [
    "group_1 = groupData(1)"
   ]
  },
  {
   "cell_type": "code",
   "execution_count": 14,
   "id": "3a2a5954",
   "metadata": {},
   "outputs": [
    {
     "data": {
      "text/html": [
       "<div>\n",
       "<style scoped>\n",
       "    .dataframe tbody tr th:only-of-type {\n",
       "        vertical-align: middle;\n",
       "    }\n",
       "\n",
       "    .dataframe tbody tr th {\n",
       "        vertical-align: top;\n",
       "    }\n",
       "\n",
       "    .dataframe thead th {\n",
       "        text-align: right;\n",
       "    }\n",
       "</style>\n",
       "<table border=\"1\" class=\"dataframe\">\n",
       "  <thead>\n",
       "    <tr style=\"text-align: right;\">\n",
       "      <th></th>\n",
       "      <th>0</th>\n",
       "      <th>1</th>\n",
       "      <th>2</th>\n",
       "      <th>output</th>\n",
       "    </tr>\n",
       "  </thead>\n",
       "  <tbody>\n",
       "    <tr>\n",
       "      <th>4</th>\n",
       "      <td>1</td>\n",
       "      <td>0</td>\n",
       "      <td>0</td>\n",
       "      <td>1</td>\n",
       "    </tr>\n",
       "    <tr>\n",
       "      <th>5</th>\n",
       "      <td>1</td>\n",
       "      <td>0</td>\n",
       "      <td>1</td>\n",
       "      <td>1</td>\n",
       "    </tr>\n",
       "    <tr>\n",
       "      <th>6</th>\n",
       "      <td>1</td>\n",
       "      <td>1</td>\n",
       "      <td>0</td>\n",
       "      <td>1</td>\n",
       "    </tr>\n",
       "    <tr>\n",
       "      <th>7</th>\n",
       "      <td>1</td>\n",
       "      <td>1</td>\n",
       "      <td>1</td>\n",
       "      <td>1</td>\n",
       "    </tr>\n",
       "  </tbody>\n",
       "</table>\n",
       "</div>"
      ],
      "text/plain": [
       "   0  1  2  output\n",
       "4  1  0  0       1\n",
       "5  1  0  1       1\n",
       "6  1  1  0       1\n",
       "7  1  1  1       1"
      ]
     },
     "execution_count": 14,
     "metadata": {},
     "output_type": "execute_result"
    }
   ],
   "source": [
    "group_1"
   ]
  },
  {
   "cell_type": "markdown",
   "id": "82003f0f",
   "metadata": {},
   "source": [
    "# Train Test Split"
   ]
  },
  {
   "cell_type": "code",
   "execution_count": 15,
   "id": "5f1c2a95",
   "metadata": {},
   "outputs": [],
   "source": [
    "train_percentage = .8;\n",
    "row = int(group_0.shape[0]*train_percentage)"
   ]
  },
  {
   "cell_type": "code",
   "execution_count": 16,
   "id": "f6650f99",
   "metadata": {},
   "outputs": [
    {
     "data": {
      "text/plain": [
       "2"
      ]
     },
     "execution_count": 16,
     "metadata": {},
     "output_type": "execute_result"
    }
   ],
   "source": [
    "row"
   ]
  },
  {
   "cell_type": "code",
   "execution_count": 17,
   "id": "77080e10",
   "metadata": {},
   "outputs": [],
   "source": [
    "X_train_0 = group_0.iloc[:row, :group_0.shape[1]-1]\n",
    "X_train_1 = group_1.iloc[:row, :group_0.shape[1]-1]"
   ]
  },
  {
   "cell_type": "code",
   "execution_count": 18,
   "id": "4e213692",
   "metadata": {},
   "outputs": [],
   "source": [
    "# X_train_0"
   ]
  },
  {
   "cell_type": "code",
   "execution_count": 19,
   "id": "86a24cf9",
   "metadata": {},
   "outputs": [],
   "source": [
    "# X_train_1"
   ]
  },
  {
   "cell_type": "code",
   "execution_count": 20,
   "id": "d47ee0b8",
   "metadata": {},
   "outputs": [],
   "source": [
    "frames = [X_train_0, X_train_1]\n",
    "X_train = pd.concat(frames)"
   ]
  },
  {
   "cell_type": "code",
   "execution_count": 21,
   "id": "371f007a",
   "metadata": {},
   "outputs": [],
   "source": [
    "X_train = X_train.values"
   ]
  },
  {
   "cell_type": "code",
   "execution_count": 22,
   "id": "e8a64b12",
   "metadata": {},
   "outputs": [],
   "source": [
    "# X_train"
   ]
  },
  {
   "cell_type": "code",
   "execution_count": 23,
   "id": "770debaf",
   "metadata": {},
   "outputs": [],
   "source": [
    "X_test_0 = group_0.iloc[row: , :group_0.shape[1]-1]\n",
    "X_test_1 = group_1.iloc[row: , :group_1.shape[1]-1]"
   ]
  },
  {
   "cell_type": "code",
   "execution_count": 24,
   "id": "650ceb41",
   "metadata": {},
   "outputs": [],
   "source": [
    "# X_test_0"
   ]
  },
  {
   "cell_type": "code",
   "execution_count": 25,
   "id": "a6855558",
   "metadata": {},
   "outputs": [],
   "source": [
    "# X_test_1"
   ]
  },
  {
   "cell_type": "code",
   "execution_count": 26,
   "id": "5249ad57",
   "metadata": {},
   "outputs": [],
   "source": [
    "frames = [X_test_0, X_test_1]\n",
    "X_test = pd.concat(frames)"
   ]
  },
  {
   "cell_type": "code",
   "execution_count": 27,
   "id": "606aa0ad",
   "metadata": {},
   "outputs": [],
   "source": [
    "X_test = X_test.values"
   ]
  },
  {
   "cell_type": "code",
   "execution_count": 28,
   "id": "532d8473",
   "metadata": {},
   "outputs": [],
   "source": [
    "# X_test"
   ]
  },
  {
   "cell_type": "code",
   "execution_count": 29,
   "id": "0de97917",
   "metadata": {},
   "outputs": [],
   "source": [
    "# X_train.shape"
   ]
  },
  {
   "cell_type": "code",
   "execution_count": 30,
   "id": "878dfb24",
   "metadata": {},
   "outputs": [],
   "source": [
    "# X_test.shape"
   ]
  },
  {
   "cell_type": "code",
   "execution_count": 31,
   "id": "0abdcaf7",
   "metadata": {},
   "outputs": [],
   "source": [
    "y_train_0 = group_0.iloc[ :row,-1]\n",
    "y_train_1 = group_1.iloc[ :row,-1]"
   ]
  },
  {
   "cell_type": "code",
   "execution_count": 32,
   "id": "ca0c3660",
   "metadata": {},
   "outputs": [],
   "source": [
    "frames = [y_train_0, y_train_1]\n",
    "y_train = pd.concat(frames)"
   ]
  },
  {
   "cell_type": "code",
   "execution_count": 33,
   "id": "b8dab822",
   "metadata": {},
   "outputs": [],
   "source": [
    "y_train = y_train.values"
   ]
  },
  {
   "cell_type": "code",
   "execution_count": 34,
   "id": "36ff59f6",
   "metadata": {},
   "outputs": [],
   "source": [
    "# y_train"
   ]
  },
  {
   "cell_type": "code",
   "execution_count": 35,
   "id": "661a39f6",
   "metadata": {},
   "outputs": [],
   "source": [
    "# y_train.shape"
   ]
  },
  {
   "cell_type": "code",
   "execution_count": 36,
   "id": "275ac16e",
   "metadata": {},
   "outputs": [],
   "source": [
    "y_test_0 = group_0.iloc[ row:,-1]\n",
    "y_test_1 = group_1.iloc[ row:,-1]"
   ]
  },
  {
   "cell_type": "code",
   "execution_count": 37,
   "id": "fd0e9d7a",
   "metadata": {},
   "outputs": [],
   "source": [
    "frames = [y_test_0, y_test_1]\n",
    "y_test = pd.concat(frames)"
   ]
  },
  {
   "cell_type": "code",
   "execution_count": 38,
   "id": "bbdca252",
   "metadata": {},
   "outputs": [],
   "source": [
    "y_test = y_test.values"
   ]
  },
  {
   "cell_type": "code",
   "execution_count": 39,
   "id": "cf67ac0e",
   "metadata": {},
   "outputs": [],
   "source": [
    "# y_test.shape"
   ]
  },
  {
   "cell_type": "code",
   "execution_count": 40,
   "id": "641b3471",
   "metadata": {},
   "outputs": [],
   "source": [
    "# y_test"
   ]
  },
  {
   "cell_type": "markdown",
   "id": "01b489be",
   "metadata": {},
   "source": [
    "# Single Layer Perceptron"
   ]
  },
  {
   "cell_type": "code",
   "execution_count": 41,
   "id": "393aef52",
   "metadata": {},
   "outputs": [],
   "source": [
    "def summation(W,X):\n",
    "#     print(type(W))\n",
    "#     print(type(X))\n",
    "    result = 0\n",
    "    for i in range(len(W)):\n",
    "        result += W[i]*X[i]\n",
    "\n",
    "    return result"
   ]
  },
  {
   "cell_type": "code",
   "execution_count": 42,
   "id": "22dfa8e5",
   "metadata": {},
   "outputs": [],
   "source": [
    "# np.random.random()\n",
    "def step(z):\n",
    "    if z> 0.5:\n",
    "        return 1\n",
    "    else:\n",
    "        return 0"
   ]
  },
  {
   "cell_type": "code",
   "execution_count": 43,
   "id": "2d195051",
   "metadata": {},
   "outputs": [],
   "source": [
    "def perceptron(X,y, weights):\n",
    "    prev_weight = weights\n",
    "    lr = 1\n",
    "    \n",
    "    while(True):\n",
    "        for i in range(len(X)):\n",
    "            actual = step(summation(weights,X[i]))\n",
    "            weights = weights + lr*(y[i]-actual)*X[i]\n",
    "            #if don't match, then go back to first iteration and repeat the process\n",
    "            if(actual != y[i]):\n",
    "                break\n",
    "                \n",
    "            \n",
    "        if(np.array_equal(weights,prev_weight)):\n",
    "            break\n",
    "            \n",
    "        prev_weight = weights\n",
    "        \n",
    "    return weights"
   ]
  },
  {
   "cell_type": "code",
   "execution_count": 44,
   "id": "34a975d5",
   "metadata": {},
   "outputs": [],
   "source": [
    "weights = np.array([0.1, 0.3, 0.2])"
   ]
  },
  {
   "cell_type": "code",
   "execution_count": 45,
   "id": "ed0f723f",
   "metadata": {},
   "outputs": [],
   "source": [
    "# X_train[:2]"
   ]
  },
  {
   "cell_type": "code",
   "execution_count": 46,
   "id": "b9069f59",
   "metadata": {},
   "outputs": [],
   "source": [
    "# y_train[:2]"
   ]
  },
  {
   "cell_type": "code",
   "execution_count": 47,
   "id": "fec1cb66",
   "metadata": {},
   "outputs": [],
   "source": [
    "# X_train[2:]"
   ]
  },
  {
   "cell_type": "code",
   "execution_count": 48,
   "id": "87252da2",
   "metadata": {},
   "outputs": [],
   "source": [
    "# y_train[2:]"
   ]
  },
  {
   "cell_type": "code",
   "execution_count": 49,
   "id": "a4b4a714",
   "metadata": {},
   "outputs": [],
   "source": [
    "# group_0_weight = perceptron(X_train[:row],y_train[:row], weights)"
   ]
  },
  {
   "cell_type": "code",
   "execution_count": 50,
   "id": "b2572cfc",
   "metadata": {},
   "outputs": [],
   "source": [
    "# group_0_weight"
   ]
  },
  {
   "cell_type": "code",
   "execution_count": 51,
   "id": "2e92a040",
   "metadata": {},
   "outputs": [],
   "source": [
    "# group_1_weight = perceptron(X_train[row:],y_train[row:], weights)"
   ]
  },
  {
   "cell_type": "code",
   "execution_count": 52,
   "id": "0cbc6413",
   "metadata": {},
   "outputs": [],
   "source": [
    "# group_1_weight"
   ]
  },
  {
   "cell_type": "code",
   "execution_count": 53,
   "id": "58a08362",
   "metadata": {},
   "outputs": [],
   "source": [
    "while(True):\n",
    "    group_0_weight = perceptron(X_train[:row],y_train[:row], weights)\n",
    "    group_1_weight = perceptron(X_train[row:],y_train[row:], weights)\n",
    "    \n",
    "    if(np.array_equal(group_0_weight,group_1_weight)):\n",
    "        break\n",
    "        \n",
    "    weights = group_1_weight"
   ]
  },
  {
   "cell_type": "code",
   "execution_count": 54,
   "id": "698cc845",
   "metadata": {},
   "outputs": [],
   "source": [
    "adapt_weight = weights"
   ]
  },
  {
   "cell_type": "markdown",
   "id": "41df803f",
   "metadata": {},
   "source": [
    "# Accuracy"
   ]
  },
  {
   "cell_type": "code",
   "execution_count": 55,
   "id": "1f0835fa",
   "metadata": {},
   "outputs": [],
   "source": [
    "# create a list to store the predictions\n",
    "y_pred = []"
   ]
  },
  {
   "cell_type": "code",
   "execution_count": 56,
   "id": "7247cacf",
   "metadata": {},
   "outputs": [],
   "source": [
    "# loop over the test data\n",
    "for test_data in X_test:\n",
    "    # predict the label for the test point\n",
    "    label = step(summation(adapt_weight,test_data))\n",
    "    y_pred.append(label)"
   ]
  },
  {
   "cell_type": "code",
   "execution_count": 57,
   "id": "806cb74c",
   "metadata": {},
   "outputs": [],
   "source": [
    "y_pred = np.array(y_pred)"
   ]
  },
  {
   "cell_type": "code",
   "execution_count": 58,
   "id": "618a74d8",
   "metadata": {},
   "outputs": [
    {
     "data": {
      "text/plain": [
       "array([0, 0, 1, 1])"
      ]
     },
     "execution_count": 58,
     "metadata": {},
     "output_type": "execute_result"
    }
   ],
   "source": [
    "y_pred"
   ]
  },
  {
   "cell_type": "code",
   "execution_count": 59,
   "id": "0f106744",
   "metadata": {},
   "outputs": [
    {
     "data": {
      "text/plain": [
       "array([0, 0, 1, 1])"
      ]
     },
     "execution_count": 59,
     "metadata": {},
     "output_type": "execute_result"
    }
   ],
   "source": [
    "y_test"
   ]
  },
  {
   "cell_type": "code",
   "execution_count": 60,
   "id": "caa96f1f",
   "metadata": {},
   "outputs": [
    {
     "name": "stdout",
     "output_type": "stream",
     "text": [
      "Accuracy:  100.0 %\n"
     ]
    }
   ],
   "source": [
    "# calculate the accuracy of the classifier\n",
    "accuracy = sum(y_pred == y_test) / len(y_test)\n",
    "print(\"Accuracy: \", accuracy*100, \"%\")"
   ]
  },
  {
   "cell_type": "markdown",
   "id": "e90dcd3d",
   "metadata": {},
   "source": [
    "# Input Test Data"
   ]
  },
  {
   "cell_type": "code",
   "execution_count": 61,
   "id": "6a4cefb0",
   "metadata": {},
   "outputs": [],
   "source": [
    "# x1 =int(input(\"Enter x1:\"))\n",
    "# x2 =int(input(\"Enter x2:\"))\n",
    "# x3 =int(input(\"Enter x3:\"))\n",
    "x1 = 1 \n",
    "x2 = 0\n",
    "x3 = 1"
   ]
  },
  {
   "cell_type": "code",
   "execution_count": 62,
   "id": "d185a69c",
   "metadata": {},
   "outputs": [],
   "source": [
    "test_data = [x1,x2,x3]"
   ]
  },
  {
   "cell_type": "code",
   "execution_count": 63,
   "id": "e399bab5",
   "metadata": {},
   "outputs": [
    {
     "data": {
      "text/plain": [
       "list"
      ]
     },
     "execution_count": 63,
     "metadata": {},
     "output_type": "execute_result"
    }
   ],
   "source": [
    "type(test_data)"
   ]
  },
  {
   "cell_type": "code",
   "execution_count": 64,
   "id": "5e64b179",
   "metadata": {},
   "outputs": [],
   "source": [
    "test_data = np.array(test_data)"
   ]
  },
  {
   "cell_type": "code",
   "execution_count": 65,
   "id": "63337914",
   "metadata": {},
   "outputs": [
    {
     "data": {
      "text/plain": [
       "array([1, 0, 1])"
      ]
     },
     "execution_count": 65,
     "metadata": {},
     "output_type": "execute_result"
    }
   ],
   "source": [
    "test_data"
   ]
  },
  {
   "cell_type": "code",
   "execution_count": 66,
   "id": "763af6f2",
   "metadata": {},
   "outputs": [],
   "source": [
    "# adapt_weight"
   ]
  },
  {
   "cell_type": "code",
   "execution_count": 67,
   "id": "c3b32d26",
   "metadata": {},
   "outputs": [],
   "source": [
    "Sum = summation(adapt_weight,test_data)"
   ]
  },
  {
   "cell_type": "code",
   "execution_count": 68,
   "id": "da92325f",
   "metadata": {},
   "outputs": [],
   "source": [
    "result = step(Sum)"
   ]
  },
  {
   "cell_type": "code",
   "execution_count": 69,
   "id": "6480be31",
   "metadata": {},
   "outputs": [
    {
     "name": "stdout",
     "output_type": "stream",
     "text": [
      "Output 1\n"
     ]
    }
   ],
   "source": [
    "if result == 0:\n",
    "    print(\"Output 0\")\n",
    "else:\n",
    "    print(\"Output 1\")"
   ]
  },
  {
   "cell_type": "code",
   "execution_count": null,
   "id": "69baf1fb",
   "metadata": {},
   "outputs": [],
   "source": []
  }
 ],
 "metadata": {
  "kernelspec": {
   "display_name": "Python 3 (ipykernel)",
   "language": "python",
   "name": "python3"
  },
  "language_info": {
   "codemirror_mode": {
    "name": "ipython",
    "version": 3
   },
   "file_extension": ".py",
   "mimetype": "text/x-python",
   "name": "python",
   "nbconvert_exporter": "python",
   "pygments_lexer": "ipython3",
   "version": "3.9.13"
  }
 },
 "nbformat": 4,
 "nbformat_minor": 5
}
